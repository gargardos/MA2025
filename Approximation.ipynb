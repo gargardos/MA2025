{
 "cells": [
  {
   "cell_type": "code",
   "execution_count": 2,
   "id": "0d63bdfb",
   "metadata": {},
   "outputs": [
    {
     "ename": "NameError",
     "evalue": "name 'coeffs' is not defined",
     "output_type": "error",
     "traceback": [
      "\u001b[31m---------------------------------------------------------------------------\u001b[39m",
      "\u001b[31mNameError\u001b[39m                                 Traceback (most recent call last)",
      "\u001b[36mCell\u001b[39m\u001b[36m \u001b[39m\u001b[32mIn[2]\u001b[39m\u001b[32m, line 2\u001b[39m\n\u001b[32m      1\u001b[39m \u001b[38;5;66;03m# Create a LaTeX string for the polynomial\u001b[39;00m\n\u001b[32m----> \u001b[39m\u001b[32m2\u001b[39m poly_str = \u001b[33m\"\u001b[39m\u001b[33m + \u001b[39m\u001b[33m\"\u001b[39m.join([\u001b[33mf\u001b[39m\u001b[33m\"\u001b[39m\u001b[38;5;132;01m{\u001b[39;00m\u001b[43mcoeffs\u001b[49m[i]\u001b[38;5;132;01m:\u001b[39;00m\u001b[33m.2e\u001b[39m\u001b[38;5;132;01m}\u001b[39;00m\u001b[33mx^\u001b[39m\u001b[38;5;132;01m{\u001b[39;00m\u001b[32m6\u001b[39m-i\u001b[38;5;132;01m}\u001b[39;00m\u001b[33m\"\u001b[39m \u001b[38;5;28;01mif\u001b[39;00m i < \u001b[32m6\u001b[39m \u001b[38;5;28;01melse\u001b[39;00m \u001b[33mf\u001b[39m\u001b[33m\"\u001b[39m\u001b[38;5;132;01m{\u001b[39;00mcoeffs[i]\u001b[38;5;132;01m:\u001b[39;00m\u001b[33m.2e\u001b[39m\u001b[38;5;132;01m}\u001b[39;00m\u001b[33m\"\u001b[39m \u001b[38;5;28;01mfor\u001b[39;00m i \u001b[38;5;129;01min\u001b[39;00m \u001b[38;5;28mrange\u001b[39m(\u001b[32m7\u001b[39m)])\n\u001b[32m      3\u001b[39m poly_label = \u001b[33mf\u001b[39m\u001b[33m\"\u001b[39m\u001b[33mApproximierte Funktion: $\u001b[39m\u001b[38;5;132;01m{\u001b[39;00mpoly_str\u001b[38;5;132;01m}\u001b[39;00m\u001b[33m$\u001b[39m\u001b[33m\"\u001b[39m\n\u001b[32m      5\u001b[39m \u001b[38;5;66;03m# Plot erstellen\u001b[39;00m\n",
      "\u001b[31mNameError\u001b[39m: name 'coeffs' is not defined"
     ]
    }
   ],
   "source": [
    "# Create a LaTeX string for the polynomial\n",
    "poly_str = \" + \".join([f\"{coeffs[i]:.2e}x^{6-i}\" if i < 6 else f\"{coeffs[i]:.2e}\" for i in range(7)])\n",
    "poly_label = f\"Approximierte Funktion: ${poly_str}$\"\n",
    "\n",
    "# Plot erstellen\n",
    "plt.figure(figsize=(10, 6))\n",
    "plt.plot(x1, y1, label='f(x) = x', color='blue', linewidth=2)\n",
    "plt.plot(x2, y2, label='f(x) = 0,2x + 80', color='red', linewidth=2)\n",
    "plt.plot(x3, y3, label='f(x) = 0,3x + 28', color='green', linewidth=2)\n",
    "plt.plot(x4, y4, label='f(x) = 0,1x + 228', color='purple', linewidth=2)\n",
    "plt.plot(x_approx, y_approx, label=poly_label, color='black', linewidth=2, linestyle='--')\n",
    "plt.xlabel(\"anzurechnendes Einkommen in €\")\n",
    "plt.ylabel(\"Absetzungsbetrag in €\")\n",
    "plt.xticks(np.arange(0, 1300, 100))\n",
    "plt.ylim(0, 600)\n",
    "plt.gca().set_aspect('equal', adjustable='box')\n",
    "plt.grid(True)\n",
    "plt.legend()\n",
    "plt.tight_layout()\n",
    "plt.show()\n"
   ]
  }
 ],
 "metadata": {
  "kernelspec": {
   "display_name": "Python 3",
   "language": "python",
   "name": "python3"
  },
  "language_info": {
   "codemirror_mode": {
    "name": "ipython",
    "version": 3
   },
   "file_extension": ".py",
   "mimetype": "text/x-python",
   "name": "python",
   "nbconvert_exporter": "python",
   "pygments_lexer": "ipython3",
   "version": "3.13.5"
  }
 },
 "nbformat": 4,
 "nbformat_minor": 5
}
